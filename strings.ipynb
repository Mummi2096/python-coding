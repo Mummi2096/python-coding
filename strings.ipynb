{
 "cells": [
  {
   "cell_type": "code",
   "execution_count": 15,
   "metadata": {},
   "outputs": [
    {
     "name": "stdout",
     "output_type": "stream",
     "text": [
      "hello world\n",
      "678\n",
      "<class 'str'>\n",
      "<class 'str'>\n",
      "<class 'str'>\n",
      "<class 'str'>\n"
     ]
    }
   ],
   "source": [
    "chr1=\"hello world\"\n",
    "print(chr1)\n",
    "chr2=\"678\"\n",
    "print(chr2)\n",
    "print(type(chr2))\n",
    "chr3=\"*%34\"\n",
    "print(type(chr3))\n",
    "chr4='345&'\n",
    "print(type(chr4))\n",
    "chr5=\"\"\"hy56\"\"\"\n",
    "print(type(chr5))\n",
    "\n",
    "\n"
   ]
  },
  {
   "cell_type": "code",
   "execution_count": 16,
   "metadata": {},
   "outputs": [
    {
     "name": "stdout",
     "output_type": "stream",
     "text": [
      "18\n"
     ]
    }
   ],
   "source": [
    "#String concetenation\n",
    "\n",
    "a=\"1\"\n",
    "b=\"8\"\n",
    "c=a+b\n",
    "print(c)\n"
   ]
  },
  {
   "cell_type": "code",
   "execution_count": 17,
   "metadata": {},
   "outputs": [
    {
     "name": "stdout",
     "output_type": "stream",
     "text": [
      "applesbanana\n",
      "apples banana\n"
     ]
    }
   ],
   "source": [
    "res1=\"apples\"\n",
    "res2=\"banana\"\n",
    "result=res1+res2\n",
    "print(result)\n",
    "result1=res1+\" \"+res2\n",
    "print(result1)\n"
   ]
  },
  {
   "cell_type": "code",
   "execution_count": 30,
   "metadata": {},
   "outputs": [
    {
     "name": "stdout",
     "output_type": "stream",
     "text": [
      "D\n",
      "e\n",
      "l\n",
      "l\n"
     ]
    }
   ],
   "source": [
    "#indexing\n",
    "\n",
    "d=\"Dell\"\n",
    "res= d[0]\n",
    "print(res)\n",
    "print(d[1])\n",
    "print(d[2])\n",
    "print(d[3])\n",
    "\n"
   ]
  },
  {
   "cell_type": "code",
   "execution_count": 33,
   "metadata": {},
   "outputs": [
    {
     "name": "stdout",
     "output_type": "stream",
     "text": [
      "n\n",
      "a\n",
      "n\n",
      "a\n"
     ]
    }
   ],
   "source": [
    "#string=banana\n",
    "#o/p: nana\n",
    "s=\"banana\"\n",
    "print(s[2])\n",
    "print(s[3])\n",
    "print(s[4])\n",
    "print(s[5])"
   ]
  },
  {
   "cell_type": "code",
   "execution_count": 36,
   "metadata": {},
   "outputs": [
    {
     "name": "stdout",
     "output_type": "stream",
     "text": [
      "l\n",
      "l\n",
      "o\n"
     ]
    }
   ],
   "source": [
    "\n",
    "#strint:\"hello\"\n",
    "#o/p: llo using negtaive index\n",
    "\n",
    "e=\"hello\"\n",
    "print(e[-3])\n",
    "print(e[-2])\n",
    "print(e[-1])"
   ]
  },
  {
   "cell_type": "code",
   "execution_count": 38,
   "metadata": {},
   "outputs": [
    {
     "name": "stdout",
     "output_type": "stream",
     "text": [
      "hello\n"
     ]
    }
   ],
   "source": [
    "#slicing\n",
    "s=\"helloworld\"\n",
    "print(s[0:4+1:1])"
   ]
  },
  {
   "cell_type": "code",
   "execution_count": 39,
   "metadata": {},
   "outputs": [
    {
     "name": "stdout",
     "output_type": "stream",
     "text": [
      "hlo\n"
     ]
    }
   ],
   "source": [
    "b=\"helloworld\"\n",
    "print(b[0:4+1:2])"
   ]
  },
  {
   "cell_type": "code",
   "execution_count": 40,
   "metadata": {},
   "outputs": [
    {
     "name": "stdout",
     "output_type": "stream",
     "text": [
      "hl\n"
     ]
    }
   ],
   "source": [
    "#string slicing\n",
    "c=\"helloworld\"\n",
    "print(c[0:4+1:3])"
   ]
  },
  {
   "cell_type": "code",
   "execution_count": 41,
   "metadata": {},
   "outputs": [
    {
     "name": "stdout",
     "output_type": "stream",
     "text": [
      "hello\n"
     ]
    }
   ],
   "source": [
    "#negative slicing\n",
    "s=\"helloworld\"\n",
    "a=s[-10:-6+1:1]\n",
    "print(a)"
   ]
  },
  {
   "cell_type": "code",
   "execution_count": 59,
   "metadata": {},
   "outputs": [
    {
     "name": "stdout",
     "output_type": "stream",
     "text": [
      "hlo\n",
      "hloo\n"
     ]
    }
   ],
   "source": [
    "#o/p: hlo\n",
    "#o/p:hlwr\n",
    "d=\"helloworld\"\n",
    "s=d[-10:-6+1:2]\n",
    "print(s)\n",
    "e=d[-10:-4+1:2]\n",
    "f=d[]\n",
    "print(e)"
   ]
  }
 ],
 "metadata": {
  "kernelspec": {
   "display_name": "Python 3",
   "language": "python",
   "name": "python3"
  },
  "language_info": {
   "codemirror_mode": {
    "name": "ipython",
    "version": 3
   },
   "file_extension": ".py",
   "mimetype": "text/x-python",
   "name": "python",
   "nbconvert_exporter": "python",
   "pygments_lexer": "ipython3",
   "version": "3.13.1"
  }
 },
 "nbformat": 4,
 "nbformat_minor": 2
}
