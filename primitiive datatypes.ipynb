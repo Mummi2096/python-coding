{
 "cells": [
  {
   "cell_type": "code",
   "execution_count": 3,
   "metadata": {},
   "outputs": [
    {
     "name": "stdout",
     "output_type": "stream",
     "text": [
      "10\n",
      "-20\n",
      "10 -20\n"
     ]
    }
   ],
   "source": [
    "#ntegers\n",
    "#positiveintegers:1,2,3---\n",
    "#negativeintegers:-1,-2,-3---\n",
    "\n",
    "a=10\n",
    "b=-20\n",
    "print(a)\n",
    "print(b)\n",
    "print(a,b)\n"
   ]
  },
  {
   "cell_type": "code",
   "execution_count": 7,
   "metadata": {},
   "outputs": [
    {
     "name": "stdout",
     "output_type": "stream",
     "text": [
      "20\n",
      "30\n",
      "50\n"
     ]
    }
   ],
   "source": [
    "apple=20\n",
    "print(apple)\n",
    "apples=apple+10\n",
    "print(apples)\n",
    "orange=apple+30\n",
    "print(orange)"
   ]
  },
  {
   "cell_type": "code",
   "execution_count": 8,
   "metadata": {},
   "outputs": [
    {
     "name": "stdout",
     "output_type": "stream",
     "text": [
      "6.99\n"
     ]
    }
   ],
   "source": [
    "float_1=6.99\n",
    "print(float_1)"
   ]
  },
  {
   "cell_type": "code",
   "execution_count": 9,
   "metadata": {},
   "outputs": [
    {
     "name": "stdout",
     "output_type": "stream",
     "text": [
      "5.9 7.6 89000.899\n"
     ]
    }
   ],
   "source": [
    "b=5.900\n",
    "c=7.600\n",
    "d=89000.899\n",
    "print(b,c,d)"
   ]
  },
  {
   "cell_type": "code",
   "execution_count": 12,
   "metadata": {},
   "outputs": [
    {
     "name": "stdout",
     "output_type": "stream",
     "text": [
      "(60+9j)\n",
      "(90+8j) (-9-8j)\n"
     ]
    }
   ],
   "source": [
    "#complex datatype\n",
    "\n",
    "complex_1=60+9j\n",
    "b=90+8j\n",
    "c=-9-8j\n",
    "print(complex_1)\n",
    "print(b,c)\n"
   ]
  },
  {
   "cell_type": "code",
   "execution_count": 13,
   "metadata": {},
   "outputs": [
    {
     "name": "stdout",
     "output_type": "stream",
     "text": [
      "b'0010'\n"
     ]
    }
   ],
   "source": [
    "bytes\n",
    "\n",
    "c=b\"0010\"\n",
    "print(c)"
   ]
  },
  {
   "cell_type": "code",
   "execution_count": 14,
   "metadata": {},
   "outputs": [
    {
     "name": "stdout",
     "output_type": "stream",
     "text": [
      "True\n",
      "False\n"
     ]
    }
   ],
   "source": [
    "#boolean\n",
    "\n",
    "is_active=True\n",
    "is_active_1=False\n",
    "print(is_active)\n",
    "print(is_active_1)"
   ]
  },
  {
   "cell_type": "code",
   "execution_count": 15,
   "metadata": {},
   "outputs": [
    {
     "name": "stdout",
     "output_type": "stream",
     "text": [
      "None\n"
     ]
    }
   ],
   "source": [
    "#None\n",
    "a=None\n",
    "print(a)"
   ]
  },
  {
   "cell_type": "code",
   "execution_count": 20,
   "metadata": {},
   "outputs": [
    {
     "name": "stdout",
     "output_type": "stream",
     "text": [
      "<class 'int'>\n",
      "<class 'float'>\n",
      "<class 'complex'>\n"
     ]
    }
   ],
   "source": [
    "x=65\n",
    "print(type(x))\n",
    "y=4.9\n",
    "print(type(y))\n",
    "z=2+-8j\n",
    "print(type(z))\n",
    "a=b\"010011\"\n",
    "print(a)"
   ]
  }
 ],
 "metadata": {
  "kernelspec": {
   "display_name": "Python 3",
   "language": "python",
   "name": "python3"
  },
  "language_info": {
   "codemirror_mode": {
    "name": "ipython",
    "version": 3
   },
   "file_extension": ".py",
   "mimetype": "text/x-python",
   "name": "python",
   "nbconvert_exporter": "python",
   "pygments_lexer": "ipython3",
   "version": "3.13.1"
  }
 },
 "nbformat": 4,
 "nbformat_minor": 2
}
